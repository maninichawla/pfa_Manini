{
 "cells": [
  {
   "cell_type": "markdown",
   "metadata": {},
   "source": [
    "## Practice Ex\n"
   ]
  },
  {
   "cell_type": "code",
   "execution_count": 25,
   "metadata": {},
   "outputs": [
    {
     "name": "stdout",
     "output_type": "stream",
     "text": [
      "[12, 35, 9, 56, 24]\n",
      "[24, 35, 9, 56, 12]\n"
     ]
    }
   ],
   "source": [
    "#1a) Make an empty list. Append Input as List element. Since Lists are mutable,\n",
    "#change the lists elements that are given as output.\n",
    "\n",
    "numbers=[]\n",
    "numbers.append(12)\n",
    "numbers.append(35)\n",
    "numbers.append(9)\n",
    "numbers.append(56)\n",
    "numbers.append(24)\n",
    "print(numbers)\n",
    "numbers[0]=24\n",
    "numbers[-1]=12\n",
    "print(numbers)\n"
   ]
  },
  {
   "cell_type": "code",
   "execution_count": 5,
   "metadata": {},
   "outputs": [
    {
     "name": "stdout",
     "output_type": "stream",
     "text": [
      "[1, 2, 3]\n",
      "[3, 2, 1]\n"
     ]
    }
   ],
   "source": [
    "#1b\n",
    "numbers=[]\n",
    "numbers.append(1)\n",
    "numbers.append(2)\n",
    "numbers.append(3)\n",
    "print(numbers)\n",
    "numbers[0]=3\n",
    "numbers[2]=1\n",
    "print(numbers)\n"
   ]
  },
  {
   "cell_type": "code",
   "execution_count": 7,
   "metadata": {},
   "outputs": [
    {
     "name": "stdout",
     "output_type": "stream",
     "text": [
      "5\n"
     ]
    }
   ],
   "source": [
    "#2 2.Find the length of list \n",
    "Num=[1, 4, 5, 7, 8]\n",
    "print(len(Num))"
   ]
  },
  {
   "cell_type": "code",
   "execution_count": 22,
   "metadata": {},
   "outputs": [
    {
     "name": "stdout",
     "output_type": "stream",
     "text": [
      "The length of list is 4\n",
      "\n"
     ]
    }
   ],
   "source": [
    "#3. Make an empty list. Append “Geeks” ,“ Are”, “For”, “Geeks” in a list. \n",
    "#Then print the length of the list like “ the length of list is …”\n",
    "\n",
    "Sen=[]\n",
    "Sen.append(\"Geeks\")\n",
    "Sen.append(\"Are\")\n",
    "Sen.append(\"For\")\n",
    "Sen.append(\"Geeks\")\n",
    "print(\"The length of list is\" ,len(Sen))"
   ]
  },
  {
   "cell_type": "code",
   "execution_count": 24,
   "metadata": {},
   "outputs": [
    {
     "name": "stdout",
     "output_type": "stream",
     "text": [
      "[4]\n",
      "[-4]\n"
     ]
    }
   ],
   "source": [
    "#4.Given two numbers, write a Python code to find the Maximum and min of these two numbers\n",
    "a=[2]\n",
    "b=[4]\n",
    "print(max(a,b))\n",
    "a=[-1]\n",
    "b=[-4]\n",
    "print(min(a,b))"
   ]
  },
  {
   "cell_type": "code",
   "execution_count": null,
   "metadata": {},
   "outputs": [],
   "source": []
  }
 ],
 "metadata": {
  "kernelspec": {
   "display_name": "Python 3",
   "language": "python",
   "name": "python3"
  },
  "language_info": {
   "codemirror_mode": {
    "name": "ipython",
    "version": 3
   },
   "file_extension": ".py",
   "mimetype": "text/x-python",
   "name": "python",
   "nbconvert_exporter": "python",
   "pygments_lexer": "ipython3",
   "version": "3.7.4"
  }
 },
 "nbformat": 4,
 "nbformat_minor": 2
}
