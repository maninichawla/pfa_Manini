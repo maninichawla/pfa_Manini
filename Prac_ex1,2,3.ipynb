{
 "cells": [
  {
   "cell_type": "code",
   "execution_count": 2,
   "metadata": {},
   "outputs": [
    {
     "name": "stdout",
     "output_type": "stream",
     "text": [
      "17\n"
     ]
    }
   ],
   "source": [
    "#EX1\n",
    "#1&2\n",
    "print(7+10) #Addition"
   ]
  },
  {
   "cell_type": "code",
   "execution_count": 31,
   "metadata": {},
   "outputs": [
    {
     "name": "stdout",
     "output_type": "stream",
     "text": [
      "20\n",
      "-5\n",
      "0.25\n",
      "4096\n"
     ]
    }
   ],
   "source": [
    "#3 \n",
    "print(2*10)\n",
    "print(4-9)\n",
    "print(2/8)\n",
    "print(4**6)"
   ]
  },
  {
   "cell_type": "code",
   "execution_count": 22,
   "metadata": {},
   "outputs": [
    {
     "name": "stdout",
     "output_type": "stream",
     "text": [
      "1750.0000000000002\n",
      "6750.0\n"
     ]
    }
   ],
   "source": [
    "#4a\n",
    "p= 5000\n",
    "r=0.07\n",
    "t=5\n",
    "si=p*r*t\n",
    "print(si)\n",
    "tv=si+p\n",
    "print(tv)\n",
    "\n"
   ]
  },
  {
   "cell_type": "code",
   "execution_count": 27,
   "metadata": {},
   "outputs": [
    {
     "name": "stdout",
     "output_type": "stream",
     "text": [
      "7.0\n"
     ]
    }
   ],
   "source": [
    "#4b\n",
    "p=8000\n",
    "r=0.087\n",
    "si=4872\n",
    "t= si/(p*r)\n",
    "print(t)"
   ]
  },
  {
   "cell_type": "code",
   "execution_count": 30,
   "metadata": {},
   "outputs": [
    {
     "name": "stdout",
     "output_type": "stream",
     "text": [
      "6.4\n"
     ]
    }
   ],
   "source": [
    "#4c\n",
    "p=3000\n",
    "t=4\n",
    "si=768\n",
    "r=si/(p*t)*100\n",
    "print(r)"
   ]
  },
  {
   "cell_type": "code",
   "execution_count": 33,
   "metadata": {},
   "outputs": [
    {
     "name": "stdout",
     "output_type": "stream",
     "text": [
      "194.87171000000012\n"
     ]
    }
   ],
   "source": [
    "#5\n",
    "p=100\n",
    "r=0.10\n",
    "t=7\n",
    "si= (p*(1+r)**t)\n",
    "print(si)"
   ]
  },
  {
   "cell_type": "code",
   "execution_count": 34,
   "metadata": {},
   "outputs": [
    {
     "name": "stdout",
     "output_type": "stream",
     "text": [
      "100\n"
     ]
    }
   ],
   "source": [
    "#EX2\n",
    "#1\n",
    "saving=100\n",
    "print(saving)"
   ]
  },
  {
   "cell_type": "code",
   "execution_count": 36,
   "metadata": {},
   "outputs": [
    {
     "name": "stdout",
     "output_type": "stream",
     "text": [
      "194.87171000000012\n"
     ]
    }
   ],
   "source": [
    "#2\n",
    "growth_multiplier=1.1\n",
    "t=7\n",
    "result= saving * growth_multiplier ** t\n",
    "print(result)"
   ]
  },
  {
   "cell_type": "code",
   "execution_count": 40,
   "metadata": {},
   "outputs": [
    {
     "name": "stdout",
     "output_type": "stream",
     "text": [
      "Compound Interest\n",
      "True\n"
     ]
    }
   ],
   "source": [
    "#3\n",
    "#Create a variable desc\n",
    "desc=('Compound Interest')\n",
    "print(desc)\n",
    "#Create a variable profitable\n",
    "profitable= True\n",
    "print(profitable)"
   ]
  },
  {
   "cell_type": "code",
   "execution_count": 47,
   "metadata": {},
   "outputs": [
    {
     "data": {
      "text/plain": [
       "float"
      ]
     },
     "execution_count": 47,
     "metadata": {},
     "output_type": "execute_result"
    }
   ],
   "source": [
    "#4a)\n",
    "A= 10.7\n",
    "type(A)\n"
   ]
  },
  {
   "cell_type": "code",
   "execution_count": 48,
   "metadata": {},
   "outputs": [
    {
     "data": {
      "text/plain": [
       "str"
      ]
     },
     "execution_count": 48,
     "metadata": {},
     "output_type": "execute_result"
    }
   ],
   "source": [
    "#4b)\n",
    "B= \"This is python course\"\n",
    "type(B)\n"
   ]
  },
  {
   "cell_type": "code",
   "execution_count": 49,
   "metadata": {},
   "outputs": [
    {
     "data": {
      "text/plain": [
       "bool"
      ]
     },
     "execution_count": 49,
     "metadata": {},
     "output_type": "execute_result"
    }
   ],
   "source": [
    "#4c)\n",
    "C= False\n",
    "type(C)"
   ]
  },
  {
   "cell_type": "code",
   "execution_count": 53,
   "metadata": {},
   "outputs": [
    {
     "name": "stdout",
     "output_type": "stream",
     "text": [
      "110.00000000000001\n",
      "<class 'float'>\n",
      "Compound InterestCompound Interest\n"
     ]
    }
   ],
   "source": [
    "saving=100\n",
    "growth_multiplier=1.1\n",
    "desc=(\"Compound Interest\")\n",
    "\n",
    "#Assign product of growth_multiplier and saving to year1\n",
    "year1= saving * growth_multiplier\n",
    "\n",
    "#Print the type of year1\n",
    "print(year1)\n",
    "print(type(year1))\n",
    "\n",
    "#Assign sum of desc and desc to doubledesc\n",
    "doubledesc= (desc+desc)\n",
    "\n",
    "#Print out doubledesc\n",
    "print(doubledesc)"
   ]
  },
  {
   "cell_type": "code",
   "execution_count": 65,
   "metadata": {},
   "outputs": [
    {
     "name": "stdout",
     "output_type": "stream",
     "text": [
      "I started with $100and now have $194.87171000000012.Awesome!\n"
     ]
    }
   ],
   "source": [
    "#6\n",
    "#Definition of savings and result\n",
    "savings=100\n",
    "result=100*1.10**7\n",
    "#fix the printout using str()\n",
    "savings1=str(savings)\n",
    "result1=str(result)\n",
    "print(\"I started with $\" +savings1 + \"and now have $\" + result1 + \".Awesome!\")\n"
   ]
  },
  {
   "cell_type": "code",
   "execution_count": 69,
   "metadata": {},
   "outputs": [
    {
     "name": "stdout",
     "output_type": "stream",
     "text": [
      "6.283\n"
     ]
    }
   ],
   "source": [
    "pi_string = \"3.1415\"\n",
    "#Converting pi_string into float pi_float\n",
    "pi_float= float(pi_string)\n",
    "#Multiply by  2\n",
    "double_pi= pi_float *2\n",
    "print(double_pi)"
   ]
  },
  {
   "cell_type": "code",
   "execution_count": 78,
   "metadata": {},
   "outputs": [
    {
     "name": "stdout",
     "output_type": "stream",
     "text": [
      "Enter a number4\n",
      "It is an even number\n"
     ]
    }
   ],
   "source": [
    "#EX3\n",
    "#1\n",
    "number= input(\"Enter a number\")\n",
    "if (float(number)% 2== 0):\n",
    "  print(\"It is an even number\")\n",
    "else:\n",
    "  print(\"It is an odd number\")"
   ]
  },
  {
   "cell_type": "code",
   "execution_count": 79,
   "metadata": {},
   "outputs": [
    {
     "name": "stdout",
     "output_type": "stream",
     "text": [
      " Enter the temp in centigrade23\n",
      "73.4\n"
     ]
    }
   ],
   "source": [
    "#2\n",
    "temp = input(\" Enter the temp in centigrade\")\n",
    "centi=float(temp)\n",
    "faren=(centi*1.8)+32\n",
    "print(faren)"
   ]
  },
  {
   "cell_type": "code",
   "execution_count": 92,
   "metadata": {},
   "outputs": [
    {
     "name": "stdout",
     "output_type": "stream",
     "text": [
      "area is: 34.662434637515005\n"
     ]
    }
   ],
   "source": [
    "#3\n",
    "import math\n",
    "a=4\n",
    "b=3\n",
    "c=6\n",
    "s=float((a+b+c)/2)\n",
    "area= float(s*(math.sqrt(s*(s-a)* (s-b) * (s-c)))) \n",
    "print(\"area is:\" , area)"
   ]
  },
  {
   "cell_type": "code",
   "execution_count": 95,
   "metadata": {},
   "outputs": [
    {
     "name": "stdout",
     "output_type": "stream",
     "text": [
      "Enter the radius0.5\n",
      "The cicumfrence is : 3.14\n",
      "The area is: 0.785\n"
     ]
    }
   ],
   "source": [
    "#4\n",
    "r = float(input(\"Enter the radius\"))\n",
    "circum= 2 * 3.14 *r\n",
    "print(\"The cicumfrence is :\", circum)\n",
    "area= 3.14 *r*r\n",
    "print(\"The area is:\", area)"
   ]
  },
  {
   "cell_type": "code",
   "execution_count": 100,
   "metadata": {},
   "outputs": [
    {
     "name": "stdout",
     "output_type": "stream",
     "text": [
      "Enter any value65\n",
      "It is a multiple of 5\n"
     ]
    }
   ],
   "source": [
    "#5\n",
    "inp= int(input(\"Enter any value\"))\n",
    "if (inp%5) == 0:\n",
    " print(\"It is a multiple of 5\")\n",
    "else:\n",
    " print(\"Not a multiple of 5\")"
   ]
  }
 ],
 "metadata": {
  "kernelspec": {
   "display_name": "Python 3",
   "language": "python",
   "name": "python3"
  },
  "language_info": {
   "codemirror_mode": {
    "name": "ipython",
    "version": 3
   },
   "file_extension": ".py",
   "mimetype": "text/x-python",
   "name": "python",
   "nbconvert_exporter": "python",
   "pygments_lexer": "ipython3",
   "version": "3.7.4"
  }
 },
 "nbformat": 4,
 "nbformat_minor": 2
}
